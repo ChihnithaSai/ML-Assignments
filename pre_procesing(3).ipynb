{
  "nbformat": 4,
  "nbformat_minor": 0,
  "metadata": {
    "colab": {
      "provenance": []
    },
    "kernelspec": {
      "name": "python3",
      "display_name": "Python 3"
    },
    "language_info": {
      "name": "python"
    }
  },
  "cells": [
    {
      "cell_type": "code",
      "execution_count": null,
      "metadata": {
        "colab": {
          "base_uri": "https://localhost:8080/"
        },
        "id": "v2dlgZHLTGMe",
        "outputId": "1913df5c-1152-4504-bc49-ebddcf6d038f"
      },
      "outputs": [
        {
          "output_type": "stream",
          "name": "stdout",
          "text": [
            "Correlation of the given data is: 0.6666666666666666\n"
          ]
        }
      ],
      "source": [
        "import numpy as np\n",
        "\n",
        "def caluclate_correlation(a,b):\n",
        "  covariance =np.cov(a,b)[0, 1]\n",
        "  variance_a =np.var(b)\n",
        "  variance_b =np.var(b)\n",
        "  c =covariance/np.sqrt(variance_a*variance_b)\n",
        "  return c\n",
        "\n",
        "a =np.array([5,6,7,8])\n",
        "b =np.array([1,3,5,7])\n",
        "\n",
        "c =caluclate_correlation(a,b)\n",
        "print(\"Correlation of the given data is:\",c)"
      ]
    }
  ]
}