{
  "nbformat": 4,
  "nbformat_minor": 0,
  "metadata": {
    "colab": {
      "provenance": []
    },
    "kernelspec": {
      "name": "python3",
      "display_name": "Python 3"
    },
    "language_info": {
      "name": "python"
    }
  },
  "cells": [
    {
      "cell_type": "code",
      "execution_count": null,
      "metadata": {
        "colab": {
          "base_uri": "https://localhost:8080/",
          "height": 1000
        },
        "id": "OUhBn4Oq2F2Z",
        "outputId": "4eba0ae4-349f-452e-b78d-41d0695bee34"
      },
      "outputs": [
        {
          "output_type": "stream",
          "name": "stdout",
          "text": [
            "Correlation Matrix is as follows:\n",
            " CRIM      -0.388305\n",
            "ZN         0.360445\n",
            "INDUS     -0.483725\n",
            "CHAS       0.175260\n",
            "NOX       -0.427321\n",
            "RM         0.695360\n",
            "AGE       -0.376955\n",
            "DIS        0.249929\n",
            "RAD       -0.381626\n",
            "TAX       -0.468536\n",
            "PTRATIO   -0.507787\n",
            "B          0.333461\n",
            "LSTAT     -0.737663\n",
            "PRICE      1.000000\n",
            "Name: PRICE, dtype: float64\n",
            "The attribute with highest correlation and PRICE is: PRICE\n",
            "Analytic Solution:\n",
            "Beta 0 (Intercept): 22.112541254125414\n",
            "Beta 1 (Slope): 2.743679870756823e-15\n",
            "SSE: 3766919.597054973\n",
            "R^2: -204.4666217372155\n"
          ]
        },
        {
          "output_type": "stream",
          "name": "stderr",
          "text": [
            "/usr/local/lib/python3.10/dist-packages/numpy/core/fromnumeric.py:88: RuntimeWarning: overflow encountered in reduce\n",
            "  return ufunc.reduce(obj, axis, dtype, out, **passkwargs)\n",
            "<ipython-input-5-4e44343f0db4>:69: RuntimeWarning: invalid value encountered in scalar subtract\n",
            "  beta_0_gd -= alpha * (1/len(n_train)) * np.sum(error)\n",
            "/usr/local/lib/python3.10/dist-packages/numpy/core/fromnumeric.py:88: RuntimeWarning: invalid value encountered in reduce\n",
            "  return ufunc.reduce(obj, axis, dtype, out, **passkwargs)\n"
          ]
        },
        {
          "output_type": "stream",
          "name": "stdout",
          "text": [
            "\n",
            "Gradient Descent is:\n",
            "Beta 0(Intercept) is: nan\n",
            "Beta 1(Slope) is: nan\n",
            "Sum Squared Error is: nan\n",
            "R^2 is: nan\n"
          ]
        },
        {
          "output_type": "display_data",
          "data": {
            "text/plain": [
              "<Figure size 640x480 with 1 Axes>"
            ],
            "image/png": "[encoded data removed]"
          },
          "metadata": {}
        }
      ],
      "source": [
        "import numpy as np\n",
        "import pandas as pd\n",
        "#from sklearn.datasets import load_boston\n",
        "# This function has been removed\n",
        "from sklearn.model_selection import train_test_split\n",
        "from sklearn.preprocessing import StandardScaler\n",
        "import matplotlib.pyplot as plt\n",
        "\n",
        "# To Load Boston Housing dataset from the original source\n",
        "data_url =\"http://lib.stat.cmu.edu/datasets/boston\"\n",
        "raw_df =pd.read_csv(data_url,sep=\"\\s+\",skiprows=22,header=None)\n",
        "data =np.hstack([raw_df.values[::2, :], raw_df.values[1::2, :2]])\n",
        "target =raw_df.values[1::2, 2]\n",
        "\n",
        "df =pd.DataFrame(data=data,columns=['CRIM','ZN','INDUS','CHAS','NOX','RM','AGE','DIS','RAD','TAX','PTRATIO','B','LSTAT'])\n",
        "df['PRICE'] =target\n",
        "\n",
        "# To Analyze the dataset nd find the attribute with best linear relationship value\n",
        "corr_matrix =df.corr()\n",
        "print(\"Correlation Matrix is as follows:\\n\", corr_matrix['PRICE'])\n",
        "\n",
        "# To Select the attribute with highest correlation with PRICE\n",
        "best_attribute = corr_matrix['PRICE'].idxmax(axis=0)\n",
        "print(f\"The attribute with highest correlation and PRICE is: {best_attribute}\")\n",
        "\n",
        "# To Split the data into training and testing sets\n",
        "M =df[[best_attribute]].values\n",
        "n =df['PRICE'].values\n",
        "M_train,M_test, n_train, n_test = train_test_split(M,n,test_size=0.4,random_state=1)\n",
        "\n",
        "# To Normalize the features\n",
        "scaler = StandardScaler()\n",
        "M_train_scaled = scaler.fit_transform(M_train)\n",
        "M_test_scaled = scaler.transform(M_test)\n",
        "\n",
        "# The Analytic Solution for Linear Regression\n",
        "M_train_mean = np.mean(M_train_scaled)\n",
        "n_train_mean = np.mean(n_train)\n",
        "\n",
        "numerator = np.sum((M_train_scaled -M_train_mean) * (n_train - n_train_mean))\n",
        "denominator = np.sum((M_train_scaled -M_train_mean) ** 2)\n",
        "beta_1_analytic = numerator / denominator\n",
        "beta_0_analytic = n_train_mean -beta_1_analytic *M_train_mean\n",
        "\n",
        "n_pred_analytic = beta_0_analytic + beta_1_analytic *M_test_scaled\n",
        "\n",
        "\n",
        "SSE_analytic =np.sum((n_test -n_pred_analytic) ** 2)\n",
        "SST =np.sum((n_test - np.mean(n_test)) ** 2)\n",
        "R2_analytic = 1 - SSE_analytic / SST\n",
        "\n",
        "print(\"Analytic Solution:\")\n",
        "print(f\"Beta 0 (Intercept): {beta_0_analytic}\")\n",
        "print(f\"Beta 1 (Slope): {beta_1_analytic}\")\n",
        "print(f\"SSE: {SSE_analytic}\")\n",
        "print(f\"R^2: {R2_analytic}\")\n",
        "\n",
        "# Gradient Descent Implementation\n",
        "\n",
        "# Initialize coefficients to zero\n",
        "beta_0_gd = 0\n",
        "beta_1_gd = 0\n",
        "alpha = 0.01  # Learning rate\n",
        "epochs = 1000  # No.of iterations\n",
        "\n",
        "for epoch in range(epochs):\n",
        "    n_pred_gd = beta_0_gd + beta_1_gd * M_train_scaled\n",
        "    error = n_pred_gd -n_train\n",
        "    beta_0_gd -= alpha * (1/len(n_train)) * np.sum(error)\n",
        "    beta_1_gd -= alpha * (1/len(n_train)) * np.sum(error * M_train_scaled)\n",
        "\n",
        "n_pred_gd_test = beta_0_gd + beta_1_gd *M_test_scaled\n",
        "\n",
        "# Calculate SSE and R^2 for Gradient Descent\n",
        "SSE_gd = np.sum((n_test -n_pred_gd_test) ** 2)\n",
        "R2_gd = 1 - SSE_gd / SST\n",
        "\n",
        "print(\"\\nGradient Descent is:\")\n",
        "print(f\"Beta 0(Intercept) is: {beta_0_gd}\")\n",
        "print(f\"Beta 1(Slope) is: {beta_1_gd}\")\n",
        "print(f\"Sum Squared Error is: {SSE_gd}\")\n",
        "print(f\"R^2 is: {R2_gd}\")\n",
        "\n",
        "# Plotting the results for the graph\n",
        "plt.scatter(M_test_scaled,n_test,color='black',label='Test Data')\n",
        "plt.plot(M_test_scaled,n_pred_analytic,color='red',label='Analytic Solution')\n",
        "plt.plot(M_test_scaled,n_pred_gd_test,color='blue',linestyle='--',label='Gradient Descent Solution')\n",
        "plt.xlabel(best_attribute)\n",
        "plt.ylabel('PRICE')\n",
        "plt.legend()\n",
        "plt.show()\n"
      ]
    }
  ]
}