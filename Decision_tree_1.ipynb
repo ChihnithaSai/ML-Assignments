{
  "nbformat": 4,
  "nbformat_minor": 0,
  "metadata": {
    "colab": {
      "provenance": []
    },
    "kernelspec": {
      "name": "python3",
      "display_name": "Python 3"
    },
    "language_info": {
      "name": "python"
    }
  },
  "cells": [
    {
      "cell_type": "code",
      "source": [
        "import pandas as pd\n",
        "from collections import Counter\n",
        "import math\n",
        "\n",
        "def load_enjoysport():\n",
        "    \"\"\"Loads EnjoySport dataset from CSV file attached.\"\"\"\n",
        "    data =pd.read_csv('/content/enjoysports.csv',header=None)\n",
        "    data.columns =['Sky','AirTemp','Humidity','Wind','Water','Forecast','EnjoySport']\n",
        "    return data\n",
        "\n",
        "def entropy_value(data):\n",
        "    \"\"\"Calculates the ENTROPY value of enjoysports dataset.\"\"\"\n",
        "    class_counts =Counter(data['EnjoySport'])\n",
        "    total_sample =len(data)\n",
        "    entropy = 0\n",
        "    for count in class_counts.values():\n",
        "        probability =count / total_sample\n",
        "        entropy -=probability*(math.log2(probability))\n",
        "    return entropy\n",
        "\n",
        "def i_g_value(data, attribute):\n",
        "    \"\"\"Calculates the IG value of given attribute.\"\"\"\n",
        "    unique_values =data[attribute].unique()\n",
        "    parent_entropy =entropy_value(data)\n",
        "    weighted_entropy =0\n",
        "    for value in unique_values:\n",
        "        subset =data[data[attribute] ==value]\n",
        "        subset_entropy =entropy_value(subset)\n",
        "        weighted_entropy +=(len(subset)/len(data))*subset_entropy\n",
        "    i_g_value = parent_entropy - weighted_entropy\n",
        "    return i_g_value\n",
        "\n",
        "def decision_tree(data):\n",
        "    \"\"\"Creates the decision tree.\"\"\"\n",
        "    if len(data['EnjoySport'].unique()) ==1:\n",
        "        return data['EnjoySport'].iloc[0]\n",
        "    if len(data) ==0:\n",
        "        return None\n",
        "    if len(data.columns) ==1:\n",
        "        return Counter(data['EnjoySport']).more_common()[0][0]\n",
        "    best_attribute =max(data.columns[:-1],key=lambda attr:i_g_value(data,attr))\n",
        "    tree ={best_attribute: {}}\n",
        "    for value in data[best_attribute].unique():\n",
        "        subset =data[data[best_attribute] ==value]\n",
        "        subtree =decision_tree(subset)\n",
        "        tree[best_attribute][value] =subtree\n",
        "    return tree\n",
        "#To load dataset\n",
        "data =load_enjoysport()\n",
        "\n",
        "# To create the decision tree\n",
        "d_t =decision_tree(data)\n",
        "\n",
        "# To print tree\n",
        "print(d_t)"
      ],
      "metadata": {
        "colab": {
          "base_uri": "https://localhost:8080/"
        },
        "id": "QDedZPgqHgFF",
        "outputId": "72f903a6-d703-4898-d371-3dbdde4a33bc"
      },
      "execution_count": 11,
      "outputs": [
        {
          "output_type": "stream",
          "name": "stdout",
          "text": [
            "{'Sky': {'sky': 'enjoysport', 'sunny': 'yes', 'rainy': 'no'}}\n"
          ]
        }
      ]
    }
  ]
}