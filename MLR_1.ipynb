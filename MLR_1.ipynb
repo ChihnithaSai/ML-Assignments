{
  "cells": [
    {
      "cell_type": "code",
      "execution_count": 12,
      "metadata": {
        "colab": {
          "base_uri": "https://localhost:8080/"
        },
        "id": "s7UUwpgOo1Og",
        "outputId": "712912d0-df03-4075-f2bc-c3d4fe7e5316"
      },
      "outputs": [
        {
          "output_type": "stream",
          "name": "stdout",
          "text": [
            "Single Linear Regression R-squared value is: 0.9265108109341951\n",
            "Multiple Linear Regression R-squared value is: 0.8987266414328637\n"
          ]
        }
      ],
      "source": [
        "import pandas as pd\n",
        "from sklearn.model_selection import train_test_split\n",
        "from sklearn.linear_model import LinearRegression\n",
        "from sklearn.metrics import r2_score\n",
        "\n",
        "data = pd.read_csv('50_Startups.csv')\n",
        "\n",
        "M =data[['R&D Spend', 'Administration', 'Marketing Spend', 'State']]\n",
        "n =data['Profit']\n",
        "\n",
        "M =pd.get_dummies(M,columns=['State'],drop_first=True)\n",
        "\n",
        "M_train,M_test,n_train,n_test =train_test_split(M,n,test_size=0.2,random_state=42)\n",
        "M_train_single =M_train[['R&D Spend']]\n",
        "M_test_single =M_test[['R&D Spend']]\n",
        "model_single =LinearRegression()\n",
        "model_single.fit(M_train_single,n_train)\n",
        "n_pred_single = model_single.predict(M_test_single)\n",
        "r2_single = r2_score(n_test,n_pred_single)\n",
        "print(f\"Single Linear Regression R-squared value is: {r2_single}\")\n",
        "model_multiple =LinearRegression()\n",
        "model_multiple.fit(M_train,n_train)\n",
        "n_pred_multiple =model_multiple.predict(M_test)\n",
        "r2_multiple =r2_score(n_test,n_pred_multiple)\n",
        "print(f\"Multiple Linear Regression R-squared value is: {r2_multiple}\")\n"
      ]
    }
  ],
  "metadata": {
    "colab": {
      "provenance": []
    },
    "kernelspec": {
      "display_name": "Python 3",
      "name": "python3"
    },
    "language_info": {
      "name": "python"
    }
  },
  "nbformat": 4,
  "nbformat_minor": 0
}