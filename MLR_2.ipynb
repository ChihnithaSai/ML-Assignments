{
  "nbformat": 4,
  "nbformat_minor": 0,
  "metadata": {
    "colab": {
      "provenance": []
    },
    "kernelspec": {
      "name": "python3",
      "display_name": "Python 3"
    },
    "language_info": {
      "name": "python"
    }
  },
  "cells": [
    {
      "cell_type": "code",
      "execution_count": 4,
      "metadata": {
        "colab": {
          "base_uri": "https://localhost:8080/"
        },
        "id": "1nitVb7yrCVg",
        "outputId": "59cb4211-52b3-4a1e-e550-05ba11af2130"
      },
      "outputs": [
        {
          "output_type": "stream",
          "name": "stdout",
          "text": [
            "R-squared value is: 0.8538352805672252\n",
            "Mean Squared Error value is: 1950244.9877904265\n"
          ]
        }
      ],
      "source": [
        "import pandas as pd\n",
        "from sklearn.model_selection import train_test_split\n",
        "from sklearn.linear_model import LinearRegression\n",
        "from sklearn.metrics import r2_score, mean_squared_error\n",
        "\n",
        "data = pd.read_csv(\"/content/ToyotaCorolla.csv\")  # Replace \"your_dataset.csv\" with the actual file path\n",
        "\n",
        "# Select relevant columns\n",
        "M=data[['Age_08_04','KM','HP','cc','Doors','Gears','Quarterly_Tax','Weight']]\n",
        "n=data['Price']\n",
        "\n",
        "#Corrected order of variables in the function call\n",
        "M_train, M_test, n_train, n_test =train_test_split(M,n,test_size=0.2,random_state=42)\n",
        "\n",
        "model = LinearRegression()\n",
        "\n",
        "model.fit(M_train,n_train)\n",
        "\n",
        "n_pred =model.predict(M_test)\n",
        "\n",
        "r = r2_score(n_test, n_pred)\n",
        "m = mean_squared_error(n_test,n_pred)\n",
        "\n",
        "print(\"R-squared value is:\", r)\n",
        "print(\"Mean Squared Error value is:\", m)"
      ]
    }
  ]
}