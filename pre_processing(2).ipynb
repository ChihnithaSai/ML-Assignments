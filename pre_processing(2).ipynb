{
  "nbformat": 4,
  "nbformat_minor": 0,
  "metadata": {
    "colab": {
      "provenance": []
    },
    "kernelspec": {
      "name": "python3",
      "display_name": "Python 3"
    },
    "language_info": {
      "name": "python"
    }
  },
  "cells": [
    {
      "cell_type": "code",
      "execution_count": null,
      "metadata": {
        "colab": {
          "base_uri": "https://localhost:8080/"
        },
        "id": "Tx8pcCQ6PGgo",
        "outputId": "fb6e5294-5894-409d-bbe8-b2a44f199c2b"
      },
      "outputs": [
        {
          "output_type": "stream",
          "name": "stdout",
          "text": [
            "Covariance of the given data is: 3.3333333333333335\n"
          ]
        }
      ],
      "source": [
        "import numpy as np\n",
        "\n",
        "def caluclate_covariance(a,b):\n",
        "  if len(a)!=len(b):\n",
        "    raise ValueError(\"Vectors should have the equal length.\")\n",
        "\n",
        "  a_mean =np.mean(a)\n",
        "  b_mean =np.mean(b)\n",
        "\n",
        "  covariance = np.sum((a-a_mean)*(b-b_mean))/(len(a)-1)\n",
        "\n",
        "  return covariance\n",
        "\n",
        "a =np.array([5,6,7,8])\n",
        "b =np.array([1,3,5,7])\n",
        "\n",
        "covariance =caluclate_covariance(a,b)\n",
        "print(\"Covariance of the given data is:\",covariance)"
      ]
    }
  ]
}