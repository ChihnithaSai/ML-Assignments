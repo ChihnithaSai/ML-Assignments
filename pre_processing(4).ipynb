{
  "nbformat": 4,
  "nbformat_minor": 0,
  "metadata": {
    "colab": {
      "provenance": []
    },
    "kernelspec": {
      "name": "python3",
      "display_name": "Python 3"
    },
    "language_info": {
      "name": "python"
    }
  },
  "cells": [
    {
      "cell_type": "code",
      "execution_count": null,
      "metadata": {
        "colab": {
          "base_uri": "https://localhost:8080/"
        },
        "id": "meMFO7j2UgMF",
        "outputId": "21663318-51d4-48e8-c1e4-c695014b930d"
      },
      "outputs": [
        {
          "output_type": "stream",
          "name": "stdout",
          "text": [
            "Covariance_matrix is: [[ 1.65171993 -0.72506588]\n",
            " [-0.72506588  0.34133923]]\n",
            "Correlation_matrix is [[ 1.         -0.96564203]\n",
            " [-0.96564203  1.        ]]\n"
          ]
        }
      ],
      "source": [
        "import numpy as np\n",
        "M =2\n",
        "N =4\n",
        "O =np.random.randn(M,N)\n",
        "covariance_matrix =np.cov(O)\n",
        "correlation_matrix =np.corrcoef(O)\n",
        "\n",
        "print(\"Covariance_matrix is:\",covariance_matrix)\n",
        "print(\"Correlation_matrix is\",correlation_matrix)"
      ]
    }
  ]
}