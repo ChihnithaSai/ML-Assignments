{
  "nbformat": 4,
  "nbformat_minor": 0,
  "metadata": {
    "colab": {
      "provenance": []
    },
    "kernelspec": {
      "name": "python3",
      "display_name": "Python 3"
    },
    "language_info": {
      "name": "python"
    }
  },
  "cells": [
    {
      "cell_type": "code",
      "execution_count": null,
      "metadata": {
        "colab": {
          "base_uri": "https://localhost:8080/"
        },
        "id": "zYVcxZY2NOGd",
        "outputId": "294ebbd0-46ac-4de8-f381-da601cbc9734"
      },
      "outputs": [
        {
          "output_type": "stream",
          "name": "stdout",
          "text": [
            "Mean of the given data is: 13.2\n",
            "Variance of the given data is: 19.7\n"
          ]
        }
      ],
      "source": [
        "import numpy as np\n",
        "\n",
        "def calculate_mean_nd_variance(data):\n",
        "  mean =np.mean(data)\n",
        "  variance =np.var(data, ddof=1)\n",
        "  return mean,variance\n",
        "\n",
        "data =np.array([9,10,12,15,20])\n",
        "mean,variance =calculate_mean_nd_variance(data)\n",
        "print(\"Mean of the given data is:\",mean)\n",
        "print(\"Variance of the given data is:\",variance)"
      ]
    }
  ]
}